{
 "cells": [
  {
   "cell_type": "code",
   "execution_count": 1,
   "metadata": {},
   "outputs": [],
   "source": [
    "import pandas as pd\n",
    "import numpy as np\n",
    "from io import BytesIO\n",
    "from zipfile import ZipFile\n",
    "from urllib.request import urlopen\n",
    "import csv\n",
    "import matplotlib\n",
    "import matplotlib.pyplot as plt\n",
    "import matplotlib.style as style\n",
    "import matplotlib.pylab as plt\n",
    "import math\n",
    "import collections\n",
    "import heapq"
   ]
  },
  {
   "cell_type": "code",
   "execution_count": 2,
   "metadata": {},
   "outputs": [
    {
     "name": "stderr",
     "output_type": "stream",
     "text": [
      "D:\\Python\\lib\\site-packages\\IPython\\core\\interactiveshell.py:3057: DtypeWarning: Columns (9) have mixed types. Specify dtype option on import or set low_memory=False.\n",
      "  interactivity=interactivity, compiler=compiler, result=result)\n"
     ]
    }
   ],
   "source": [
    "# load Facebook data from online source\n",
    "url = \"https://us8.mailchimp.com/mctx/clicks?url=https%3A%2F%2Fs3-us-west-2.amazonaws.com%2Fdocuments.thinknum.com%2Fdataset_dump%2Fgnhsjbgeza%2Ftemp_datalab_records_social_facebook.zip&h=f84203f1bc203108cdcb47ef0284e06a4070047f8c79865765f0128abc579fa2&v=1&xid=2a067544d1&uid=29791003&pool=contact_facing&subject=Here%27s+your+data+sets+from+The+Data+Incubator+and+Thinknum\"\n",
    "resp = urlopen(url)\n",
    "zipfile = ZipFile(BytesIO(resp.read()))\n",
    "zipfile.namelist()\n",
    "fb = pd.read_csv(zipfile.open('temp_datalab_records_social_facebook.csv'))\n",
    "zipfile.close()"
   ]
  },
  {
   "cell_type": "code",
   "execution_count": 3,
   "metadata": {
    "scrolled": true
   },
   "outputs": [
    {
     "data": {
      "text/html": [
       "<div>\n",
       "<style scoped>\n",
       "    .dataframe tbody tr th:only-of-type {\n",
       "        vertical-align: middle;\n",
       "    }\n",
       "\n",
       "    .dataframe tbody tr th {\n",
       "        vertical-align: top;\n",
       "    }\n",
       "\n",
       "    .dataframe thead th {\n",
       "        text-align: right;\n",
       "    }\n",
       "</style>\n",
       "<table border=\"1\" class=\"dataframe\">\n",
       "  <thead>\n",
       "    <tr style=\"text-align: right;\">\n",
       "      <th></th>\n",
       "      <th>dataset_id</th>\n",
       "      <th>time</th>\n",
       "      <th>username</th>\n",
       "      <th>checkins</th>\n",
       "      <th>has_added_app</th>\n",
       "      <th>were_here_count</th>\n",
       "      <th>likes</th>\n",
       "      <th>talking_about_count</th>\n",
       "      <th>facebook_id</th>\n",
       "      <th>date_added</th>\n",
       "      <th>date_updated</th>\n",
       "      <th>entity_id</th>\n",
       "      <th>cusip</th>\n",
       "      <th>isin</th>\n",
       "    </tr>\n",
       "  </thead>\n",
       "  <tbody>\n",
       "    <tr>\n",
       "      <th>0</th>\n",
       "      <td>53088</td>\n",
       "      <td>2015-01-01 05:00:00+00</td>\n",
       "      <td>SodaStream</td>\n",
       "      <td>0</td>\n",
       "      <td>f</td>\n",
       "      <td>0</td>\n",
       "      <td>761533</td>\n",
       "      <td>587</td>\n",
       "      <td>54885616308</td>\n",
       "      <td>NaN</td>\n",
       "      <td>2017-02-14 03:35:13.236826+00</td>\n",
       "      <td>NaN</td>\n",
       "      <td>NaN</td>\n",
       "      <td>NaN</td>\n",
       "    </tr>\n",
       "    <tr>\n",
       "      <th>1</th>\n",
       "      <td>52642</td>\n",
       "      <td>2015-01-01 05:00:00+00</td>\n",
       "      <td>ANSYSInc</td>\n",
       "      <td>148</td>\n",
       "      <td>f</td>\n",
       "      <td>0</td>\n",
       "      <td>43442</td>\n",
       "      <td>1305</td>\n",
       "      <td>160242297413411</td>\n",
       "      <td>NaN</td>\n",
       "      <td>2017-02-14 01:55:52.78506+00</td>\n",
       "      <td>NaN</td>\n",
       "      <td>NaN</td>\n",
       "      <td>NaN</td>\n",
       "    </tr>\n",
       "    <tr>\n",
       "      <th>2</th>\n",
       "      <td>53656</td>\n",
       "      <td>2015-01-01 05:00:00+00</td>\n",
       "      <td>MyAquaAmerica</td>\n",
       "      <td>0</td>\n",
       "      <td>f</td>\n",
       "      <td>0</td>\n",
       "      <td>5591</td>\n",
       "      <td>297</td>\n",
       "      <td>591693544195818</td>\n",
       "      <td>NaN</td>\n",
       "      <td>2017-02-14 08:13:51.267343+00</td>\n",
       "      <td>NaN</td>\n",
       "      <td>NaN</td>\n",
       "      <td>NaN</td>\n",
       "    </tr>\n",
       "    <tr>\n",
       "      <th>3</th>\n",
       "      <td>53033</td>\n",
       "      <td>2015-01-01 05:00:00+00</td>\n",
       "      <td>Qualcomm</td>\n",
       "      <td>173</td>\n",
       "      <td>f</td>\n",
       "      <td>0</td>\n",
       "      <td>1232521</td>\n",
       "      <td>2685</td>\n",
       "      <td>108472637291</td>\n",
       "      <td>NaN</td>\n",
       "      <td>2017-02-14 03:24:04.363035+00</td>\n",
       "      <td>NaN</td>\n",
       "      <td>NaN</td>\n",
       "      <td>NaN</td>\n",
       "    </tr>\n",
       "    <tr>\n",
       "      <th>4</th>\n",
       "      <td>52783</td>\n",
       "      <td>2015-01-01 05:00:00+00</td>\n",
       "      <td>eaglepharmaceuticals</td>\n",
       "      <td>0</td>\n",
       "      <td>f</td>\n",
       "      <td>0</td>\n",
       "      <td>18</td>\n",
       "      <td>0</td>\n",
       "      <td>1428265940729350</td>\n",
       "      <td>NaN</td>\n",
       "      <td>2017-02-14 02:22:10.193588+00</td>\n",
       "      <td>NaN</td>\n",
       "      <td>NaN</td>\n",
       "      <td>NaN</td>\n",
       "    </tr>\n",
       "  </tbody>\n",
       "</table>\n",
       "</div>"
      ],
      "text/plain": [
       "   dataset_id                    time              username  checkins  \\\n",
       "0       53088  2015-01-01 05:00:00+00            SodaStream         0   \n",
       "1       52642  2015-01-01 05:00:00+00              ANSYSInc       148   \n",
       "2       53656  2015-01-01 05:00:00+00         MyAquaAmerica         0   \n",
       "3       53033  2015-01-01 05:00:00+00              Qualcomm       173   \n",
       "4       52783  2015-01-01 05:00:00+00  eaglepharmaceuticals         0   \n",
       "\n",
       "  has_added_app  were_here_count    likes  talking_about_count  \\\n",
       "0             f                0   761533                  587   \n",
       "1             f                0    43442                 1305   \n",
       "2             f                0     5591                  297   \n",
       "3             f                0  1232521                 2685   \n",
       "4             f                0       18                    0   \n",
       "\n",
       "        facebook_id date_added                   date_updated  entity_id  \\\n",
       "0       54885616308        NaN  2017-02-14 03:35:13.236826+00        NaN   \n",
       "1   160242297413411        NaN   2017-02-14 01:55:52.78506+00        NaN   \n",
       "2   591693544195818        NaN  2017-02-14 08:13:51.267343+00        NaN   \n",
       "3      108472637291        NaN  2017-02-14 03:24:04.363035+00        NaN   \n",
       "4  1428265940729350        NaN  2017-02-14 02:22:10.193588+00        NaN   \n",
       "\n",
       "   cusip  isin  \n",
       "0    NaN   NaN  \n",
       "1    NaN   NaN  \n",
       "2    NaN   NaN  \n",
       "3    NaN   NaN  \n",
       "4    NaN   NaN  "
      ]
     },
     "execution_count": 3,
     "metadata": {},
     "output_type": "execute_result"
    }
   ],
   "source": [
    "fb.head()"
   ]
  },
  {
   "cell_type": "code",
   "execution_count": 4,
   "metadata": {
    "scrolled": true
   },
   "outputs": [
    {
     "data": {
      "text/plain": [
       "(3621391, 14)"
      ]
     },
     "execution_count": 4,
     "metadata": {},
     "output_type": "execute_result"
    }
   ],
   "source": [
    "fb.shape"
   ]
  },
  {
   "cell_type": "code",
   "execution_count": 5,
   "metadata": {
    "scrolled": false
   },
   "outputs": [
    {
     "name": "stdout",
     "output_type": "stream",
     "text": [
      "column 'dataset_id' has 4714 unique values\n",
      "column 'time' has 1241 unique values\n",
      "column 'username' has 4951 unique values\n",
      "column 'checkins' has 117065 unique values\n",
      "column 'has_added_app' has 1 unique values\n",
      "column 'were_here_count' has 244669 unique values\n",
      "column 'likes' has 926145 unique values\n",
      "column 'talking_about_count' has 134589 unique values\n",
      "column 'facebook_id' has 4714 unique values\n",
      "column 'date_added' has 2090861 unique values\n",
      "column 'date_updated' has 3611782 unique values\n",
      "column 'entity_id' has 1 unique values\n",
      "column 'cusip' has 1 unique values\n",
      "column 'isin' has 1 unique values\n"
     ]
    }
   ],
   "source": [
    "for col in fb.columns:\n",
    "    print(f\"column '{col}' has {fb[col].unique().size} unique values\")"
   ]
  },
  {
   "cell_type": "code",
   "execution_count": 6,
   "metadata": {},
   "outputs": [],
   "source": [
    "# select columns which we are going to use\n",
    "fb_reduce = fb[['dataset_id', 'time', 'username', 'likes', 'talking_about_count', 'facebook_id']]"
   ]
  },
  {
   "cell_type": "code",
   "execution_count": 7,
   "metadata": {},
   "outputs": [
    {
     "data": {
      "text/plain": [
       "0"
      ]
     },
     "execution_count": 7,
     "metadata": {},
     "output_type": "execute_result"
    }
   ],
   "source": [
    "# notice that 'dataset_id' and 'facebook_id' have exactly the same unique values\n",
    "# let's furthur verify that they are exactly paired with each other\n",
    "pair = {}\n",
    "for dataset_id, curr_df in fb_reduce.groupby('dataset_id', sort = False):\n",
    "    pair[dataset_id] = curr_df['facebook_id'].iloc[0]\n",
    "fb_reduce[fb_reduce['dataset_id'].map(pair) != fb_reduce['facebook_id']]['dataset_id'].size"
   ]
  },
  {
   "cell_type": "code",
   "execution_count": 8,
   "metadata": {},
   "outputs": [
    {
     "name": "stderr",
     "output_type": "stream",
     "text": [
      "D:\\Python\\lib\\site-packages\\pandas\\core\\frame.py:3940: SettingWithCopyWarning: \n",
      "A value is trying to be set on a copy of a slice from a DataFrame\n",
      "\n",
      "See the caveats in the documentation: http://pandas.pydata.org/pandas-docs/stable/indexing.html#indexing-view-versus-copy\n",
      "  errors=errors)\n"
     ]
    }
   ],
   "source": [
    "# because 'dataset_id' and 'facebook_id' are exactly paired, let's drop column 'facebook_id'\n",
    "fb_reduce.drop(columns = ['facebook_id'], inplace = True)"
   ]
  },
  {
   "cell_type": "code",
   "execution_count": 9,
   "metadata": {},
   "outputs": [
    {
     "name": "stdout",
     "output_type": "stream",
     "text": [
      "column 'username' has 120929 'NaN' values\n"
     ]
    }
   ],
   "source": [
    "# observe that 'username' is the only column that has 'NaN' values\n",
    "for col in fb_reduce.columns:\n",
    "    n_nan = fb_reduce[fb_reduce[col].isna()][col].size\n",
    "    if n_nan > 0:\n",
    "        print(f\"column '{col}' has {n_nan} 'NaN' values\")"
   ]
  },
  {
   "cell_type": "code",
   "execution_count": 10,
   "metadata": {
    "scrolled": true
   },
   "outputs": [],
   "source": [
    "# find invalid dataset_id whose all usernames are missing\n",
    "# pair each valid dataset_id with a list of its usernames\n",
    "invalid_dataset_id = []\n",
    "id_user_map = {}\n",
    "#print(\"dataset_id with multiple usernames:\")\n",
    "for dataset_id, curr_df in fb_reduce.groupby('dataset_id', sort = False):\n",
    "    curr_df = curr_df[curr_df['username'].isna() == False]\n",
    "    if curr_df.size == 0:\n",
    "        invalid_dataset_id.append(dataset_id)\n",
    "    else:\n",
    "        curr_username = curr_df['username'].unique()\n",
    "#        if curr_username.size > 1:\n",
    "#            print(dataset_id, list(curr_username))\n",
    "        id_user_map[dataset_id] = list(curr_username)[-1]"
   ]
  },
  {
   "cell_type": "code",
   "execution_count": 11,
   "metadata": {},
   "outputs": [
    {
     "name": "stdout",
     "output_type": "stream",
     "text": [
      "there are 132 invalid dataset_id's whose all usernames are missing\n"
     ]
    }
   ],
   "source": [
    "print(f\"there are {len(invalid_dataset_id)} invalid dataset_id's whose all usernames are missing\")"
   ]
  },
  {
   "cell_type": "code",
   "execution_count": 12,
   "metadata": {
    "scrolled": true
   },
   "outputs": [
    {
     "name": "stderr",
     "output_type": "stream",
     "text": [
      "D:\\Python\\lib\\site-packages\\ipykernel_launcher.py:4: SettingWithCopyWarning: \n",
      "A value is trying to be set on a copy of a slice from a DataFrame\n",
      "\n",
      "See the caveats in the documentation: http://pandas.pydata.org/pandas-docs/stable/indexing.html#indexing-view-versus-copy\n",
      "  after removing the cwd from sys.path.\n"
     ]
    }
   ],
   "source": [
    "# observe there're many cases that one dataset_id is corresponding to several username\n",
    "# mostly it's because one same company used multiple names\n",
    "# drop those rows with invalid dataset_id\n",
    "fb_reduce.dropna(inplace = True)"
   ]
  },
  {
   "cell_type": "code",
   "execution_count": 13,
   "metadata": {},
   "outputs": [],
   "source": [
    "# drop column 'username', will use hashmap id_user_map instead\n",
    "fb_reduce.drop(columns = ['username'], inplace = True)"
   ]
  },
  {
   "cell_type": "code",
   "execution_count": 14,
   "metadata": {},
   "outputs": [
    {
     "data": {
      "text/plain": [
       "('McDonaldsUS', 'McDonalds')"
      ]
     },
     "execution_count": 14,
     "metadata": {},
     "output_type": "execute_result"
    }
   ],
   "source": [
    "# Obeserve 'dataset_id' 63328 and 63329 both refer to McDonalds\n",
    "id_user_map[63328], id_user_map[63329]"
   ]
  },
  {
   "cell_type": "code",
   "execution_count": 15,
   "metadata": {},
   "outputs": [
    {
     "name": "stderr",
     "output_type": "stream",
     "text": [
      "D:\\Python\\lib\\site-packages\\pandas\\core\\frame.py:4042: SettingWithCopyWarning: \n",
      "A value is trying to be set on a copy of a slice from a DataFrame\n",
      "\n",
      "See the caveats in the documentation: http://pandas.pydata.org/pandas-docs/stable/indexing.html#indexing-view-versus-copy\n",
      "  method=method)\n"
     ]
    }
   ],
   "source": [
    "# replace all 63328 by 63329\n",
    "fb_reduce.replace({'dataset_id': 63328}, 63329, inplace = True)"
   ]
  },
  {
   "cell_type": "code",
   "execution_count": 16,
   "metadata": {
    "scrolled": false
   },
   "outputs": [
    {
     "name": "stdout",
     "output_type": "stream",
     "text": [
      "time stamp is from 2015-01-01 05:00:00+00:00 to 2018-07-17 04:00:00+00:00\n",
      "there are in total 1241 days in record\n"
     ]
    },
    {
     "name": "stderr",
     "output_type": "stream",
     "text": [
      "D:\\Python\\lib\\site-packages\\ipykernel_launcher.py:1: SettingWithCopyWarning: \n",
      "A value is trying to be set on a copy of a slice from a DataFrame.\n",
      "Try using .loc[row_indexer,col_indexer] = value instead\n",
      "\n",
      "See the caveats in the documentation: http://pandas.pydata.org/pandas-docs/stable/indexing.html#indexing-view-versus-copy\n",
      "  \"\"\"Entry point for launching an IPython kernel.\n"
     ]
    }
   ],
   "source": [
    "fb_reduce['time'] = pd.to_datetime(fb_reduce['time'])\n",
    "print(f\"time stamp is from {fb_reduce['time'].min()} to {fb_reduce['time'].max()}\")\n",
    "print(f\"there are in total {fb_reduce['time'].unique().size} days in record\")"
   ]
  },
  {
   "cell_type": "code",
   "execution_count": 17,
   "metadata": {
    "scrolled": true
   },
   "outputs": [],
   "source": [
    "#fb_reduce.head()"
   ]
  },
  {
   "cell_type": "code",
   "execution_count": 18,
   "metadata": {
    "scrolled": true
   },
   "outputs": [
    {
     "data": {
      "text/plain": [
       "0"
      ]
     },
     "execution_count": 18,
     "metadata": {},
     "output_type": "execute_result"
    }
   ],
   "source": [
    "# observe that every row has a positive 'likes' number\n",
    "fb_reduce[fb_reduce['likes'] == 0]['likes'].size"
   ]
  },
  {
   "cell_type": "code",
   "execution_count": 19,
   "metadata": {},
   "outputs": [],
   "source": [
    "# create dataframe tac_likes_df\n",
    "id_user_tac_likes_ratio = []\n",
    "\n",
    "for curr_id, curr_df in fb_reduce.groupby('dataset_id', sort = False):\n",
    "    curr_user = id_user_map[curr_id]\n",
    "    days = (curr_df['time'].max() - curr_df['time'].min()).days + 1\n",
    "    curr_tac_mean = round(curr_df['talking_about_count'].sum() / days)\n",
    "    curr_likes_mean = round(curr_df['likes'].sum() / days)\n",
    "    curr_ratio_df = curr_df['talking_about_count'] / curr_df['likes']\n",
    "    curr_ratio_mean = round(curr_ratio_df.sum() / days, 6)\n",
    "    id_user_tac_likes_ratio.append((curr_id, curr_user, int(curr_tac_mean), int(curr_likes_mean), curr_ratio_mean)) \n",
    "\n",
    "tac_likes_df = pd.DataFrame(id_user_tac_likes_ratio, columns = ['dataset_id', 'username', 'tac_mean', 'likes_mean', 'tac_over_likes_ratio_mean'])"
   ]
  },
  {
   "cell_type": "code",
   "execution_count": 20,
   "metadata": {},
   "outputs": [
    {
     "data": {
      "text/plain": [
       "(4581, 5)"
      ]
     },
     "execution_count": 20,
     "metadata": {},
     "output_type": "execute_result"
    }
   ],
   "source": [
    "tac_likes_df.shape"
   ]
  },
  {
   "cell_type": "code",
   "execution_count": 21,
   "metadata": {},
   "outputs": [],
   "source": [
    "# dataframe tac_likes_df captures those companies, either in top 100 tac_mean list, or in top 100 likes_mean list\n",
    "tac_likes_df.sort_values(by='tac_mean', ascending=False, inplace = True)\n",
    "id_set = set(set(tac_likes_df['dataset_id'].iloc[:100]))\n",
    "tac_likes_df.sort_values(by='likes_mean', ascending=False, inplace = True)\n",
    "id_set = id_set.union(set(tac_likes_df['dataset_id'].iloc[:100]))\n",
    "tac_likes_reduce = pd.concat([tac_likes_df[tac_likes_df['dataset_id'] == x] for x in id_set])"
   ]
  },
  {
   "cell_type": "code",
   "execution_count": 22,
   "metadata": {},
   "outputs": [
    {
     "data": {
      "text/plain": [
       "(158, 5)"
      ]
     },
     "execution_count": 22,
     "metadata": {},
     "output_type": "execute_result"
    }
   ],
   "source": [
    "# there are 158 such companies\n",
    "# this means 42 companies are in both top 100 tac_mean and top 100 likes_mean lists\n",
    "tac_likes_reduce.shape"
   ]
  },
  {
   "cell_type": "code",
   "execution_count": 23,
   "metadata": {},
   "outputs": [],
   "source": [
    "def plot_tac(curr_id):\n",
    "    fig, ax = plt.subplots(figsize = (20,7))\n",
    "    \n",
    "    curr_df = fb_reduce[fb_reduce['dataset_id'] == curr_id]\n",
    "    ax.plot(curr_df['time'], curr_df['talking_about_count'], label = id_user_map[curr_id])\n",
    "        \n",
    "    ax.set(xlabel='time', title = 'tac_mean')\n",
    "    ax.grid()\n",
    "    plt.legend()\n",
    "    plt.show()\n",
    "    print('\\n')\n",
    "\n",
    "def plot_likes(curr_id):\n",
    "    fig, ax = plt.subplots(figsize = (20,7))\n",
    "    \n",
    "    curr_df = fb_reduce[fb_reduce['dataset_id'] == curr_id]\n",
    "    ax.plot(curr_df['time'], curr_df['likes'], label = id_user_map[curr_id])\n",
    "        \n",
    "    ax.set(xlabel='time', title = 'likes_mean')\n",
    "    ax.grid()\n",
    "    plt.legend()\n",
    "    plt.show()\n",
    "    print('\\n')\n",
    "\n",
    "def plot_ratio(curr_id):\n",
    "    fig, ax = plt.subplots(figsize = (20,7))\n",
    "    \n",
    "    curr_df = fb_reduce[fb_reduce['dataset_id'] == curr_id]\n",
    "    ax.plot(curr_df['time'], curr_df['talking_about_count'] / curr_df['likes'], label = id_user_map[curr_id])\n",
    "        \n",
    "    ax.set(xlabel='time', title = 'tac_over_likes_ratio_mean')\n",
    "    ax.grid()\n",
    "    plt.legend()\n",
    "    plt.show()\n",
    "    print('\\n')"
   ]
  },
  {
   "cell_type": "code",
   "execution_count": 24,
   "metadata": {
    "scrolled": true
   },
   "outputs": [
    {
     "name": "stdout",
     "output_type": "stream",
     "text": [
      "top 20 companies in 'tac_mean'\n"
     ]
    },
    {
     "data": {
      "text/html": [
       "<div>\n",
       "<style scoped>\n",
       "    .dataframe tbody tr th:only-of-type {\n",
       "        vertical-align: middle;\n",
       "    }\n",
       "\n",
       "    .dataframe tbody tr th {\n",
       "        vertical-align: top;\n",
       "    }\n",
       "\n",
       "    .dataframe thead th {\n",
       "        text-align: right;\n",
       "    }\n",
       "</style>\n",
       "<table border=\"1\" class=\"dataframe\">\n",
       "  <thead>\n",
       "    <tr style=\"text-align: right;\">\n",
       "      <th></th>\n",
       "      <th>dataset_id</th>\n",
       "      <th>username</th>\n",
       "      <th>tac_mean</th>\n",
       "      <th>likes_mean</th>\n",
       "      <th>tac_over_likes_ratio_mean</th>\n",
       "    </tr>\n",
       "  </thead>\n",
       "  <tbody>\n",
       "    <tr>\n",
       "      <th>496</th>\n",
       "      <td>53470</td>\n",
       "      <td>manchesterunited</td>\n",
       "      <td>1555581</td>\n",
       "      <td>66589285</td>\n",
       "      <td>0.022361</td>\n",
       "    </tr>\n",
       "    <tr>\n",
       "      <th>1728</th>\n",
       "      <td>63359</td>\n",
       "      <td>nytimes</td>\n",
       "      <td>1194144</td>\n",
       "      <td>12564732</td>\n",
       "      <td>0.091844</td>\n",
       "    </tr>\n",
       "    <tr>\n",
       "      <th>557</th>\n",
       "      <td>53657</td>\n",
       "      <td>wwe</td>\n",
       "      <td>1184840</td>\n",
       "      <td>29665911</td>\n",
       "      <td>0.036284</td>\n",
       "    </tr>\n",
       "    <tr>\n",
       "      <th>2841</th>\n",
       "      <td>868421</td>\n",
       "      <td>CBSNews</td>\n",
       "      <td>981925</td>\n",
       "      <td>3922076</td>\n",
       "      <td>0.238345</td>\n",
       "    </tr>\n",
       "    <tr>\n",
       "      <th>1494</th>\n",
       "      <td>61368</td>\n",
       "      <td>usatoday</td>\n",
       "      <td>801433</td>\n",
       "      <td>7049166</td>\n",
       "      <td>0.113647</td>\n",
       "    </tr>\n",
       "    <tr>\n",
       "      <th>1040</th>\n",
       "      <td>57603</td>\n",
       "      <td>CollegeHumor</td>\n",
       "      <td>796045</td>\n",
       "      <td>6710444</td>\n",
       "      <td>0.112073</td>\n",
       "    </tr>\n",
       "    <tr>\n",
       "      <th>966</th>\n",
       "      <td>56003</td>\n",
       "      <td>ESPN</td>\n",
       "      <td>738405</td>\n",
       "      <td>15383892</td>\n",
       "      <td>0.045995</td>\n",
       "    </tr>\n",
       "    <tr>\n",
       "      <th>2883</th>\n",
       "      <td>869047</td>\n",
       "      <td>Storyful</td>\n",
       "      <td>702768</td>\n",
       "      <td>2294683</td>\n",
       "      <td>0.360262</td>\n",
       "    </tr>\n",
       "    <tr>\n",
       "      <th>1001</th>\n",
       "      <td>56677</td>\n",
       "      <td>yahoo</td>\n",
       "      <td>617366</td>\n",
       "      <td>12959805</td>\n",
       "      <td>0.044807</td>\n",
       "    </tr>\n",
       "    <tr>\n",
       "      <th>988</th>\n",
       "      <td>56198</td>\n",
       "      <td>netflix</td>\n",
       "      <td>471246</td>\n",
       "      <td>28867149</td>\n",
       "      <td>0.013267</td>\n",
       "    </tr>\n",
       "    <tr>\n",
       "      <th>2879</th>\n",
       "      <td>869044</td>\n",
       "      <td>NYPost</td>\n",
       "      <td>462649</td>\n",
       "      <td>3643503</td>\n",
       "      <td>0.126344</td>\n",
       "    </tr>\n",
       "    <tr>\n",
       "      <th>2369</th>\n",
       "      <td>69297</td>\n",
       "      <td>foxdeportes</td>\n",
       "      <td>457398</td>\n",
       "      <td>11705798</td>\n",
       "      <td>0.037590</td>\n",
       "    </tr>\n",
       "    <tr>\n",
       "      <th>2473</th>\n",
       "      <td>70141</td>\n",
       "      <td>AntennaTV</td>\n",
       "      <td>414420</td>\n",
       "      <td>1040762</td>\n",
       "      <td>0.416247</td>\n",
       "    </tr>\n",
       "    <tr>\n",
       "      <th>2878</th>\n",
       "      <td>869048</td>\n",
       "      <td>thesun</td>\n",
       "      <td>387836</td>\n",
       "      <td>2629701</td>\n",
       "      <td>0.136855</td>\n",
       "    </tr>\n",
       "    <tr>\n",
       "      <th>2854</th>\n",
       "      <td>868426</td>\n",
       "      <td>CBSSports</td>\n",
       "      <td>375629</td>\n",
       "      <td>3345069</td>\n",
       "      <td>0.110064</td>\n",
       "    </tr>\n",
       "    <tr>\n",
       "      <th>2608</th>\n",
       "      <td>70151</td>\n",
       "      <td>WGNTV</td>\n",
       "      <td>359155</td>\n",
       "      <td>777664</td>\n",
       "      <td>0.486827</td>\n",
       "    </tr>\n",
       "    <tr>\n",
       "      <th>982</th>\n",
       "      <td>56196</td>\n",
       "      <td>facebook</td>\n",
       "      <td>353415</td>\n",
       "      <td>175168835</td>\n",
       "      <td>0.001936</td>\n",
       "    </tr>\n",
       "    <tr>\n",
       "      <th>2349</th>\n",
       "      <td>69294</td>\n",
       "      <td>foxsports</td>\n",
       "      <td>348247</td>\n",
       "      <td>8403201</td>\n",
       "      <td>0.040789</td>\n",
       "    </tr>\n",
       "    <tr>\n",
       "      <th>4222</th>\n",
       "      <td>1002826</td>\n",
       "      <td>BET</td>\n",
       "      <td>312116</td>\n",
       "      <td>5946974</td>\n",
       "      <td>0.043066</td>\n",
       "    </tr>\n",
       "    <tr>\n",
       "      <th>909</th>\n",
       "      <td>55669</td>\n",
       "      <td>Disney</td>\n",
       "      <td>290857</td>\n",
       "      <td>48478669</td>\n",
       "      <td>0.005735</td>\n",
       "    </tr>\n",
       "  </tbody>\n",
       "</table>\n",
       "</div>"
      ],
      "text/plain": [
       "      dataset_id          username  tac_mean  likes_mean  \\\n",
       "496        53470  manchesterunited   1555581    66589285   \n",
       "1728       63359           nytimes   1194144    12564732   \n",
       "557        53657               wwe   1184840    29665911   \n",
       "2841      868421           CBSNews    981925     3922076   \n",
       "1494       61368          usatoday    801433     7049166   \n",
       "1040       57603      CollegeHumor    796045     6710444   \n",
       "966        56003              ESPN    738405    15383892   \n",
       "2883      869047          Storyful    702768     2294683   \n",
       "1001       56677             yahoo    617366    12959805   \n",
       "988        56198           netflix    471246    28867149   \n",
       "2879      869044            NYPost    462649     3643503   \n",
       "2369       69297       foxdeportes    457398    11705798   \n",
       "2473       70141         AntennaTV    414420     1040762   \n",
       "2878      869048            thesun    387836     2629701   \n",
       "2854      868426         CBSSports    375629     3345069   \n",
       "2608       70151             WGNTV    359155      777664   \n",
       "982        56196          facebook    353415   175168835   \n",
       "2349       69294         foxsports    348247     8403201   \n",
       "4222     1002826               BET    312116     5946974   \n",
       "909        55669            Disney    290857    48478669   \n",
       "\n",
       "      tac_over_likes_ratio_mean  \n",
       "496                    0.022361  \n",
       "1728                   0.091844  \n",
       "557                    0.036284  \n",
       "2841                   0.238345  \n",
       "1494                   0.113647  \n",
       "1040                   0.112073  \n",
       "966                    0.045995  \n",
       "2883                   0.360262  \n",
       "1001                   0.044807  \n",
       "988                    0.013267  \n",
       "2879                   0.126344  \n",
       "2369                   0.037590  \n",
       "2473                   0.416247  \n",
       "2878                   0.136855  \n",
       "2854                   0.110064  \n",
       "2608                   0.486827  \n",
       "982                    0.001936  \n",
       "2349                   0.040789  \n",
       "4222                   0.043066  \n",
       "909                    0.005735  "
      ]
     },
     "execution_count": 24,
     "metadata": {},
     "output_type": "execute_result"
    }
   ],
   "source": [
    "# top 20 companies in 'tac_mean'\n",
    "tac_likes_reduce.sort_values(by='tac_mean', ascending=False, inplace = True)\n",
    "print(\"top 20 companies in 'tac_mean'\")\n",
    "tac_likes_reduce.head(20)"
   ]
  },
  {
   "cell_type": "code",
   "execution_count": 25,
   "metadata": {},
   "outputs": [
    {
     "name": "stdout",
     "output_type": "stream",
     "text": [
      "top 20 companies in 'tac_mean'\n",
      "['manchesterunited', 'nytimes', 'wwe', 'CBSNews', 'usatoday', 'CollegeHumor', 'ESPN', 'Storyful', 'yahoo', 'netflix', 'NYPost', 'foxdeportes', 'AntennaTV', 'thesun', 'CBSSports', 'WGNTV', 'facebook', 'foxsports', 'BET', 'Disney']\n"
     ]
    }
   ],
   "source": [
    "print(\"top 20 companies in 'tac_mean'\")\n",
    "print(list(tac_likes_reduce.iloc[:20]['username']))"
   ]
  },
  {
   "cell_type": "code",
   "execution_count": 26,
   "metadata": {},
   "outputs": [
    {
     "data": {
      "image/png": "[encoded data removed]",
      "text/plain": [
       "<Figure size 1440x576 with 1 Axes>"
      ]
     },
     "metadata": {
      "needs_background": "light"
     },
     "output_type": "display_data"
    },
    {
     "name": "stdout",
     "output_type": "stream",
     "text": [
      "\n",
      "\n"
     ]
    }
   ],
   "source": [
    "fig, ax = plt.subplots(figsize = (20,8))\n",
    "curr_df = tac_likes_reduce.iloc[:20][::-1]\n",
    "ax.barh(curr_df['username'], curr_df['tac_mean'])\n",
    "ax.set(xlabel= 'tac_mean', title= 'top 20 companies in tac_mean')\n",
    "    \n",
    "ax.grid()\n",
    "plt.show()\n",
    "print('\\n')"
   ]
  },
  {
   "cell_type": "code",
   "execution_count": 27,
   "metadata": {
    "scrolled": true
   },
   "outputs": [
    {
     "name": "stdout",
     "output_type": "stream",
     "text": [
      "top 20 companies in 'likes_mean'\n"
     ]
    },
    {
     "data": {
      "text/html": [
       "<div>\n",
       "<style scoped>\n",
       "    .dataframe tbody tr th:only-of-type {\n",
       "        vertical-align: middle;\n",
       "    }\n",
       "\n",
       "    .dataframe tbody tr th {\n",
       "        vertical-align: top;\n",
       "    }\n",
       "\n",
       "    .dataframe thead th {\n",
       "        text-align: right;\n",
       "    }\n",
       "</style>\n",
       "<table border=\"1\" class=\"dataframe\">\n",
       "  <thead>\n",
       "    <tr style=\"text-align: right;\">\n",
       "      <th></th>\n",
       "      <th>dataset_id</th>\n",
       "      <th>username</th>\n",
       "      <th>tac_mean</th>\n",
       "      <th>likes_mean</th>\n",
       "      <th>tac_over_likes_ratio_mean</th>\n",
       "    </tr>\n",
       "  </thead>\n",
       "  <tbody>\n",
       "    <tr>\n",
       "      <th>982</th>\n",
       "      <td>56196</td>\n",
       "      <td>facebook</td>\n",
       "      <td>353415</td>\n",
       "      <td>175168835</td>\n",
       "      <td>0.001936</td>\n",
       "    </tr>\n",
       "    <tr>\n",
       "      <th>1745</th>\n",
       "      <td>63329</td>\n",
       "      <td>McDonalds</td>\n",
       "      <td>70011</td>\n",
       "      <td>132392688</td>\n",
       "      <td>0.001005</td>\n",
       "    </tr>\n",
       "    <tr>\n",
       "      <th>1601</th>\n",
       "      <td>62291</td>\n",
       "      <td>youtube</td>\n",
       "      <td>174655</td>\n",
       "      <td>78459190</td>\n",
       "      <td>0.002122</td>\n",
       "    </tr>\n",
       "    <tr>\n",
       "      <th>496</th>\n",
       "      <td>53470</td>\n",
       "      <td>manchesterunited</td>\n",
       "      <td>1555581</td>\n",
       "      <td>66589285</td>\n",
       "      <td>0.022361</td>\n",
       "    </tr>\n",
       "    <tr>\n",
       "      <th>2354</th>\n",
       "      <td>69295</td>\n",
       "      <td>natgeotvUS</td>\n",
       "      <td>86719</td>\n",
       "      <td>56644731</td>\n",
       "      <td>0.001471</td>\n",
       "    </tr>\n",
       "    <tr>\n",
       "      <th>909</th>\n",
       "      <td>55669</td>\n",
       "      <td>Disney</td>\n",
       "      <td>290857</td>\n",
       "      <td>48478669</td>\n",
       "      <td>0.005735</td>\n",
       "    </tr>\n",
       "    <tr>\n",
       "      <th>1936</th>\n",
       "      <td>64359</td>\n",
       "      <td>KFC</td>\n",
       "      <td>34257</td>\n",
       "      <td>42773805</td>\n",
       "      <td>0.000791</td>\n",
       "    </tr>\n",
       "    <tr>\n",
       "      <th>3050</th>\n",
       "      <td>871651</td>\n",
       "      <td>Starbucks</td>\n",
       "      <td>268178</td>\n",
       "      <td>34520156</td>\n",
       "      <td>0.007285</td>\n",
       "    </tr>\n",
       "    <tr>\n",
       "      <th>3075</th>\n",
       "      <td>878839</td>\n",
       "      <td>PepsiUS</td>\n",
       "      <td>26022</td>\n",
       "      <td>34455243</td>\n",
       "      <td>0.000707</td>\n",
       "    </tr>\n",
       "    <tr>\n",
       "      <th>76</th>\n",
       "      <td>52612</td>\n",
       "      <td>walmart</td>\n",
       "      <td>118501</td>\n",
       "      <td>31373107</td>\n",
       "      <td>0.003550</td>\n",
       "    </tr>\n",
       "    <tr>\n",
       "      <th>557</th>\n",
       "      <td>53657</td>\n",
       "      <td>wwe</td>\n",
       "      <td>1184840</td>\n",
       "      <td>29665911</td>\n",
       "      <td>0.036284</td>\n",
       "    </tr>\n",
       "    <tr>\n",
       "      <th>1015</th>\n",
       "      <td>57114</td>\n",
       "      <td>iTunes</td>\n",
       "      <td>22561</td>\n",
       "      <td>29590103</td>\n",
       "      <td>0.000730</td>\n",
       "    </tr>\n",
       "    <tr>\n",
       "      <th>988</th>\n",
       "      <td>56198</td>\n",
       "      <td>netflix</td>\n",
       "      <td>471246</td>\n",
       "      <td>28867149</td>\n",
       "      <td>0.013267</td>\n",
       "    </tr>\n",
       "    <tr>\n",
       "      <th>1937</th>\n",
       "      <td>64360</td>\n",
       "      <td>PizzaHut</td>\n",
       "      <td>4569</td>\n",
       "      <td>27751645</td>\n",
       "      <td>0.000158</td>\n",
       "    </tr>\n",
       "    <tr>\n",
       "      <th>721</th>\n",
       "      <td>52870</td>\n",
       "      <td>Intel</td>\n",
       "      <td>78694</td>\n",
       "      <td>27656426</td>\n",
       "      <td>0.002949</td>\n",
       "    </tr>\n",
       "    <tr>\n",
       "      <th>2322</th>\n",
       "      <td>69122</td>\n",
       "      <td>kscleanmaster</td>\n",
       "      <td>84345</td>\n",
       "      <td>27044227</td>\n",
       "      <td>0.003060</td>\n",
       "    </tr>\n",
       "    <tr>\n",
       "      <th>3879</th>\n",
       "      <td>911207</td>\n",
       "      <td>Skype</td>\n",
       "      <td>20763</td>\n",
       "      <td>26742522</td>\n",
       "      <td>0.000718</td>\n",
       "    </tr>\n",
       "    <tr>\n",
       "      <th>1654</th>\n",
       "      <td>62850</td>\n",
       "      <td>victoriassecret</td>\n",
       "      <td>132732</td>\n",
       "      <td>26561425</td>\n",
       "      <td>0.004767</td>\n",
       "    </tr>\n",
       "    <tr>\n",
       "      <th>918</th>\n",
       "      <td>55617</td>\n",
       "      <td>Amazon</td>\n",
       "      <td>149856</td>\n",
       "      <td>26065199</td>\n",
       "      <td>0.005492</td>\n",
       "    </tr>\n",
       "    <tr>\n",
       "      <th>4098</th>\n",
       "      <td>933818</td>\n",
       "      <td>Marvel</td>\n",
       "      <td>112304</td>\n",
       "      <td>25386631</td>\n",
       "      <td>0.004082</td>\n",
       "    </tr>\n",
       "  </tbody>\n",
       "</table>\n",
       "</div>"
      ],
      "text/plain": [
       "      dataset_id          username  tac_mean  likes_mean  \\\n",
       "982        56196          facebook    353415   175168835   \n",
       "1745       63329         McDonalds     70011   132392688   \n",
       "1601       62291           youtube    174655    78459190   \n",
       "496        53470  manchesterunited   1555581    66589285   \n",
       "2354       69295        natgeotvUS     86719    56644731   \n",
       "909        55669            Disney    290857    48478669   \n",
       "1936       64359               KFC     34257    42773805   \n",
       "3050      871651         Starbucks    268178    34520156   \n",
       "3075      878839           PepsiUS     26022    34455243   \n",
       "76         52612           walmart    118501    31373107   \n",
       "557        53657               wwe   1184840    29665911   \n",
       "1015       57114            iTunes     22561    29590103   \n",
       "988        56198           netflix    471246    28867149   \n",
       "1937       64360          PizzaHut      4569    27751645   \n",
       "721        52870             Intel     78694    27656426   \n",
       "2322       69122     kscleanmaster     84345    27044227   \n",
       "3879      911207             Skype     20763    26742522   \n",
       "1654       62850   victoriassecret    132732    26561425   \n",
       "918        55617            Amazon    149856    26065199   \n",
       "4098      933818            Marvel    112304    25386631   \n",
       "\n",
       "      tac_over_likes_ratio_mean  \n",
       "982                    0.001936  \n",
       "1745                   0.001005  \n",
       "1601                   0.002122  \n",
       "496                    0.022361  \n",
       "2354                   0.001471  \n",
       "909                    0.005735  \n",
       "1936                   0.000791  \n",
       "3050                   0.007285  \n",
       "3075                   0.000707  \n",
       "76                     0.003550  \n",
       "557                    0.036284  \n",
       "1015                   0.000730  \n",
       "988                    0.013267  \n",
       "1937                   0.000158  \n",
       "721                    0.002949  \n",
       "2322                   0.003060  \n",
       "3879                   0.000718  \n",
       "1654                   0.004767  \n",
       "918                    0.005492  \n",
       "4098                   0.004082  "
      ]
     },
     "execution_count": 27,
     "metadata": {},
     "output_type": "execute_result"
    }
   ],
   "source": [
    "# top 20 companies in 'likes_mean'\n",
    "tac_likes_reduce.sort_values(by='likes_mean', ascending=False, inplace = True)\n",
    "print(\"top 20 companies in 'likes_mean'\")\n",
    "tac_likes_reduce.head(20)"
   ]
  },
  {
   "cell_type": "code",
   "execution_count": 28,
   "metadata": {},
   "outputs": [
    {
     "name": "stdout",
     "output_type": "stream",
     "text": [
      "top 20 companies in 'likes_mean'\n",
      "['facebook', 'McDonalds', 'youtube', 'manchesterunited', 'natgeotvUS', 'Disney', 'KFC', 'Starbucks', 'PepsiUS', 'walmart', 'wwe', 'iTunes', 'netflix', 'PizzaHut', 'Intel', 'kscleanmaster', 'Skype', 'victoriassecret', 'Amazon', 'Marvel']\n"
     ]
    }
   ],
   "source": [
    "print(\"top 20 companies in 'likes_mean'\")\n",
    "print(list(tac_likes_reduce.iloc[:20]['username']))"
   ]
  },
  {
   "cell_type": "code",
   "execution_count": 29,
   "metadata": {
    "scrolled": false
   },
   "outputs": [
    {
     "data": {
      "image/png": "[encoded data removed]",
      "text/plain": [
       "<Figure size 1440x576 with 1 Axes>"
      ]
     },
     "metadata": {
      "needs_background": "light"
     },
     "output_type": "display_data"
    },
    {
     "name": "stdout",
     "output_type": "stream",
     "text": [
      "\n",
      "\n"
     ]
    }
   ],
   "source": [
    "fig, ax = plt.subplots(figsize = (20,8))\n",
    "curr_df = tac_likes_reduce.iloc[:20][::-1]\n",
    "ax.barh(curr_df['username'], curr_df['likes_mean'])\n",
    "ax.set(xlabel= 'likes_mean', title= 'top 20 companies in likes_mean')\n",
    "    \n",
    "ax.grid()\n",
    "plt.show()\n",
    "print('\\n')"
   ]
  },
  {
   "cell_type": "code",
   "execution_count": 30,
   "metadata": {
    "scrolled": true
   },
   "outputs": [
    {
     "name": "stdout",
     "output_type": "stream",
     "text": [
      "top 20 companies in 'tac_over_likes_ratio_mean'\n"
     ]
    },
    {
     "data": {
      "text/html": [
       "<div>\n",
       "<style scoped>\n",
       "    .dataframe tbody tr th:only-of-type {\n",
       "        vertical-align: middle;\n",
       "    }\n",
       "\n",
       "    .dataframe tbody tr th {\n",
       "        vertical-align: top;\n",
       "    }\n",
       "\n",
       "    .dataframe thead th {\n",
       "        text-align: right;\n",
       "    }\n",
       "</style>\n",
       "<table border=\"1\" class=\"dataframe\">\n",
       "  <thead>\n",
       "    <tr style=\"text-align: right;\">\n",
       "      <th></th>\n",
       "      <th>dataset_id</th>\n",
       "      <th>username</th>\n",
       "      <th>tac_mean</th>\n",
       "      <th>likes_mean</th>\n",
       "      <th>tac_over_likes_ratio_mean</th>\n",
       "    </tr>\n",
       "  </thead>\n",
       "  <tbody>\n",
       "    <tr>\n",
       "      <th>2608</th>\n",
       "      <td>70151</td>\n",
       "      <td>WGNTV</td>\n",
       "      <td>359155</td>\n",
       "      <td>777664</td>\n",
       "      <td>0.486827</td>\n",
       "    </tr>\n",
       "    <tr>\n",
       "      <th>1403</th>\n",
       "      <td>60883</td>\n",
       "      <td>tricolor1035</td>\n",
       "      <td>176049</td>\n",
       "      <td>443362</td>\n",
       "      <td>0.470032</td>\n",
       "    </tr>\n",
       "    <tr>\n",
       "      <th>2473</th>\n",
       "      <td>70141</td>\n",
       "      <td>AntennaTV</td>\n",
       "      <td>414420</td>\n",
       "      <td>1040762</td>\n",
       "      <td>0.416247</td>\n",
       "    </tr>\n",
       "    <tr>\n",
       "      <th>2636</th>\n",
       "      <td>70136</td>\n",
       "      <td>fox6news</td>\n",
       "      <td>123332</td>\n",
       "      <td>315724</td>\n",
       "      <td>0.370599</td>\n",
       "    </tr>\n",
       "    <tr>\n",
       "      <th>2623</th>\n",
       "      <td>70162</td>\n",
       "      <td>wreg3</td>\n",
       "      <td>100153</td>\n",
       "      <td>277779</td>\n",
       "      <td>0.362663</td>\n",
       "    </tr>\n",
       "    <tr>\n",
       "      <th>2640</th>\n",
       "      <td>70154</td>\n",
       "      <td>Q13FOX</td>\n",
       "      <td>149539</td>\n",
       "      <td>416490</td>\n",
       "      <td>0.361802</td>\n",
       "    </tr>\n",
       "    <tr>\n",
       "      <th>2883</th>\n",
       "      <td>869047</td>\n",
       "      <td>Storyful</td>\n",
       "      <td>702768</td>\n",
       "      <td>2294683</td>\n",
       "      <td>0.360262</td>\n",
       "    </tr>\n",
       "    <tr>\n",
       "      <th>1522</th>\n",
       "      <td>61441</td>\n",
       "      <td>WJXT4TheLocalStation</td>\n",
       "      <td>114540</td>\n",
       "      <td>323251</td>\n",
       "      <td>0.354792</td>\n",
       "    </tr>\n",
       "    <tr>\n",
       "      <th>2577</th>\n",
       "      <td>70160</td>\n",
       "      <td>fox31denver</td>\n",
       "      <td>115744</td>\n",
       "      <td>323380</td>\n",
       "      <td>0.348035</td>\n",
       "    </tr>\n",
       "    <tr>\n",
       "      <th>1451</th>\n",
       "      <td>61329</td>\n",
       "      <td>detroitfreepress</td>\n",
       "      <td>118761</td>\n",
       "      <td>345505</td>\n",
       "      <td>0.333217</td>\n",
       "    </tr>\n",
       "    <tr>\n",
       "      <th>2462</th>\n",
       "      <td>70139</td>\n",
       "      <td>fox5sandiego</td>\n",
       "      <td>88178</td>\n",
       "      <td>262031</td>\n",
       "      <td>0.326946</td>\n",
       "    </tr>\n",
       "    <tr>\n",
       "      <th>1565</th>\n",
       "      <td>61437</td>\n",
       "      <td>Local4</td>\n",
       "      <td>127344</td>\n",
       "      <td>396651</td>\n",
       "      <td>0.308644</td>\n",
       "    </tr>\n",
       "    <tr>\n",
       "      <th>2335</th>\n",
       "      <td>69431</td>\n",
       "      <td>pix11news</td>\n",
       "      <td>147578</td>\n",
       "      <td>478400</td>\n",
       "      <td>0.307055</td>\n",
       "    </tr>\n",
       "    <tr>\n",
       "      <th>2626</th>\n",
       "      <td>70152</td>\n",
       "      <td>Fox59News</td>\n",
       "      <td>189382</td>\n",
       "      <td>618525</td>\n",
       "      <td>0.298357</td>\n",
       "    </tr>\n",
       "    <tr>\n",
       "      <th>2644</th>\n",
       "      <td>70138</td>\n",
       "      <td>WTKR3</td>\n",
       "      <td>71023</td>\n",
       "      <td>234079</td>\n",
       "      <td>0.296754</td>\n",
       "    </tr>\n",
       "    <tr>\n",
       "      <th>2460</th>\n",
       "      <td>70155</td>\n",
       "      <td>CBS6News</td>\n",
       "      <td>89602</td>\n",
       "      <td>319345</td>\n",
       "      <td>0.278867</td>\n",
       "    </tr>\n",
       "    <tr>\n",
       "      <th>2497</th>\n",
       "      <td>70167</td>\n",
       "      <td>Fox8NewsCleveland</td>\n",
       "      <td>239123</td>\n",
       "      <td>856674</td>\n",
       "      <td>0.270797</td>\n",
       "    </tr>\n",
       "    <tr>\n",
       "      <th>2587</th>\n",
       "      <td>70161</td>\n",
       "      <td>fox8news</td>\n",
       "      <td>159995</td>\n",
       "      <td>553505</td>\n",
       "      <td>0.269801</td>\n",
       "    </tr>\n",
       "    <tr>\n",
       "      <th>1510</th>\n",
       "      <td>61340</td>\n",
       "      <td>azcentral</td>\n",
       "      <td>99081</td>\n",
       "      <td>350990</td>\n",
       "      <td>0.266937</td>\n",
       "    </tr>\n",
       "    <tr>\n",
       "      <th>1553</th>\n",
       "      <td>61443</td>\n",
       "      <td>KSAT12</td>\n",
       "      <td>116266</td>\n",
       "      <td>410026</td>\n",
       "      <td>0.264861</td>\n",
       "    </tr>\n",
       "  </tbody>\n",
       "</table>\n",
       "</div>"
      ],
      "text/plain": [
       "      dataset_id              username  tac_mean  likes_mean  \\\n",
       "2608       70151                 WGNTV    359155      777664   \n",
       "1403       60883          tricolor1035    176049      443362   \n",
       "2473       70141             AntennaTV    414420     1040762   \n",
       "2636       70136              fox6news    123332      315724   \n",
       "2623       70162                 wreg3    100153      277779   \n",
       "2640       70154                Q13FOX    149539      416490   \n",
       "2883      869047              Storyful    702768     2294683   \n",
       "1522       61441  WJXT4TheLocalStation    114540      323251   \n",
       "2577       70160           fox31denver    115744      323380   \n",
       "1451       61329      detroitfreepress    118761      345505   \n",
       "2462       70139          fox5sandiego     88178      262031   \n",
       "1565       61437                Local4    127344      396651   \n",
       "2335       69431             pix11news    147578      478400   \n",
       "2626       70152             Fox59News    189382      618525   \n",
       "2644       70138                 WTKR3     71023      234079   \n",
       "2460       70155              CBS6News     89602      319345   \n",
       "2497       70167     Fox8NewsCleveland    239123      856674   \n",
       "2587       70161              fox8news    159995      553505   \n",
       "1510       61340             azcentral     99081      350990   \n",
       "1553       61443                KSAT12    116266      410026   \n",
       "\n",
       "      tac_over_likes_ratio_mean  \n",
       "2608                   0.486827  \n",
       "1403                   0.470032  \n",
       "2473                   0.416247  \n",
       "2636                   0.370599  \n",
       "2623                   0.362663  \n",
       "2640                   0.361802  \n",
       "2883                   0.360262  \n",
       "1522                   0.354792  \n",
       "2577                   0.348035  \n",
       "1451                   0.333217  \n",
       "2462                   0.326946  \n",
       "1565                   0.308644  \n",
       "2335                   0.307055  \n",
       "2626                   0.298357  \n",
       "2644                   0.296754  \n",
       "2460                   0.278867  \n",
       "2497                   0.270797  \n",
       "2587                   0.269801  \n",
       "1510                   0.266937  \n",
       "1553                   0.264861  "
      ]
     },
     "execution_count": 30,
     "metadata": {},
     "output_type": "execute_result"
    }
   ],
   "source": [
    "# top 20 companies in 'tac_over_likes_ratio_mean'\n",
    "tac_likes_reduce.sort_values(by='tac_over_likes_ratio_mean', ascending=False, inplace = True)\n",
    "print(\"top 20 companies in 'tac_over_likes_ratio_mean'\")\n",
    "tac_likes_reduce.head(20)"
   ]
  },
  {
   "cell_type": "code",
   "execution_count": 31,
   "metadata": {},
   "outputs": [
    {
     "name": "stdout",
     "output_type": "stream",
     "text": [
      "top 20 companies in 'tac_over_likes_ratio_mean'\n",
      "['WGNTV', 'tricolor1035', 'AntennaTV', 'fox6news', 'wreg3', 'Q13FOX', 'Storyful', 'WJXT4TheLocalStation', 'fox31denver', 'detroitfreepress', 'fox5sandiego', 'Local4', 'pix11news', 'Fox59News', 'WTKR3', 'CBS6News', 'Fox8NewsCleveland', 'fox8news', 'azcentral', 'KSAT12']\n"
     ]
    }
   ],
   "source": [
    "print(\"top 20 companies in 'tac_over_likes_ratio_mean'\")\n",
    "print(list(tac_likes_reduce.iloc[:20]['username']))"
   ]
  },
  {
   "cell_type": "code",
   "execution_count": 32,
   "metadata": {
    "scrolled": false
   },
   "outputs": [
    {
     "data": {
      "image/png": "[encoded data removed]",
      "text/plain": [
       "<Figure size 1440x576 with 1 Axes>"
      ]
     },
     "metadata": {
      "needs_background": "light"
     },
     "output_type": "display_data"
    },
    {
     "name": "stdout",
     "output_type": "stream",
     "text": [
      "\n",
      "\n"
     ]
    }
   ],
   "source": [
    "fig, ax = plt.subplots(figsize = (20,8))\n",
    "curr_df = tac_likes_reduce.iloc[:20][::-1]\n",
    "ax.barh(curr_df['username'], curr_df['tac_over_likes_ratio_mean'])\n",
    "ax.set(xlabel= 'tac_over_likes_ratio_mean', title= 'top 20 companies in tac_over_likes_ratio_mean')\n",
    "    \n",
    "ax.grid()\n",
    "plt.show()\n",
    "print('\\n')"
   ]
  },
  {
   "cell_type": "code",
   "execution_count": 33,
   "metadata": {
    "scrolled": true
   },
   "outputs": [
    {
     "name": "stdout",
     "output_type": "stream",
     "text": [
      "bottom 20 companies in 'tac_over_likes_ratio_mean'\n"
     ]
    },
    {
     "data": {
      "text/html": [
       "<div>\n",
       "<style scoped>\n",
       "    .dataframe tbody tr th:only-of-type {\n",
       "        vertical-align: middle;\n",
       "    }\n",
       "\n",
       "    .dataframe tbody tr th {\n",
       "        vertical-align: top;\n",
       "    }\n",
       "\n",
       "    .dataframe thead th {\n",
       "        text-align: right;\n",
       "    }\n",
       "</style>\n",
       "<table border=\"1\" class=\"dataframe\">\n",
       "  <thead>\n",
       "    <tr style=\"text-align: right;\">\n",
       "      <th></th>\n",
       "      <th>dataset_id</th>\n",
       "      <th>username</th>\n",
       "      <th>tac_mean</th>\n",
       "      <th>likes_mean</th>\n",
       "      <th>tac_over_likes_ratio_mean</th>\n",
       "    </tr>\n",
       "  </thead>\n",
       "  <tbody>\n",
       "    <tr>\n",
       "      <th>1028</th>\n",
       "      <td>57202</td>\n",
       "      <td>StellaArtoisSingapore</td>\n",
       "      <td>31</td>\n",
       "      <td>7707607</td>\n",
       "      <td>0.000004</td>\n",
       "    </tr>\n",
       "    <tr>\n",
       "      <th>4079</th>\n",
       "      <td>931671</td>\n",
       "      <td>johnsonsbaby</td>\n",
       "      <td>231</td>\n",
       "      <td>11113013</td>\n",
       "      <td>0.000019</td>\n",
       "    </tr>\n",
       "    <tr>\n",
       "      <th>3920</th>\n",
       "      <td>911355</td>\n",
       "      <td>headandshouldersusa</td>\n",
       "      <td>856</td>\n",
       "      <td>8881935</td>\n",
       "      <td>0.000088</td>\n",
       "    </tr>\n",
       "    <tr>\n",
       "      <th>1014</th>\n",
       "      <td>57117</td>\n",
       "      <td>DunkinDonuts</td>\n",
       "      <td>2134</td>\n",
       "      <td>13601931</td>\n",
       "      <td>0.000154</td>\n",
       "    </tr>\n",
       "    <tr>\n",
       "      <th>1937</th>\n",
       "      <td>64360</td>\n",
       "      <td>PizzaHut</td>\n",
       "      <td>4569</td>\n",
       "      <td>27751645</td>\n",
       "      <td>0.000158</td>\n",
       "    </tr>\n",
       "    <tr>\n",
       "      <th>3884</th>\n",
       "      <td>911362</td>\n",
       "      <td>headandshoulders</td>\n",
       "      <td>1842</td>\n",
       "      <td>8881955</td>\n",
       "      <td>0.000189</td>\n",
       "    </tr>\n",
       "    <tr>\n",
       "      <th>3918</th>\n",
       "      <td>911327</td>\n",
       "      <td>Pampers</td>\n",
       "      <td>6915</td>\n",
       "      <td>16202296</td>\n",
       "      <td>0.000394</td>\n",
       "    </tr>\n",
       "    <tr>\n",
       "      <th>3078</th>\n",
       "      <td>878838</td>\n",
       "      <td>DoritosUSA</td>\n",
       "      <td>7778</td>\n",
       "      <td>15532218</td>\n",
       "      <td>0.000470</td>\n",
       "    </tr>\n",
       "    <tr>\n",
       "      <th>2082</th>\n",
       "      <td>65871</td>\n",
       "      <td>HeladosHolanda</td>\n",
       "      <td>3801</td>\n",
       "      <td>7664443</td>\n",
       "      <td>0.000486</td>\n",
       "    </tr>\n",
       "    <tr>\n",
       "      <th>1684</th>\n",
       "      <td>62862</td>\n",
       "      <td>MastercardUS</td>\n",
       "      <td>7801</td>\n",
       "      <td>14009949</td>\n",
       "      <td>0.000525</td>\n",
       "    </tr>\n",
       "    <tr>\n",
       "      <th>111</th>\n",
       "      <td>52660</td>\n",
       "      <td>BlackBerry</td>\n",
       "      <td>15118</td>\n",
       "      <td>24189653</td>\n",
       "      <td>0.000547</td>\n",
       "    </tr>\n",
       "    <tr>\n",
       "      <th>3075</th>\n",
       "      <td>878839</td>\n",
       "      <td>PepsiUS</td>\n",
       "      <td>26022</td>\n",
       "      <td>34455243</td>\n",
       "      <td>0.000707</td>\n",
       "    </tr>\n",
       "    <tr>\n",
       "      <th>3879</th>\n",
       "      <td>911207</td>\n",
       "      <td>Skype</td>\n",
       "      <td>20763</td>\n",
       "      <td>26742522</td>\n",
       "      <td>0.000718</td>\n",
       "    </tr>\n",
       "    <tr>\n",
       "      <th>1015</th>\n",
       "      <td>57114</td>\n",
       "      <td>iTunes</td>\n",
       "      <td>22561</td>\n",
       "      <td>29590103</td>\n",
       "      <td>0.000730</td>\n",
       "    </tr>\n",
       "    <tr>\n",
       "      <th>3263</th>\n",
       "      <td>895678</td>\n",
       "      <td>skyscanner</td>\n",
       "      <td>6937</td>\n",
       "      <td>8628247</td>\n",
       "      <td>0.000749</td>\n",
       "    </tr>\n",
       "    <tr>\n",
       "      <th>1936</th>\n",
       "      <td>64359</td>\n",
       "      <td>KFC</td>\n",
       "      <td>34257</td>\n",
       "      <td>42773805</td>\n",
       "      <td>0.000791</td>\n",
       "    </tr>\n",
       "    <tr>\n",
       "      <th>772</th>\n",
       "      <td>53232</td>\n",
       "      <td>Avon</td>\n",
       "      <td>15895</td>\n",
       "      <td>15470121</td>\n",
       "      <td>0.000948</td>\n",
       "    </tr>\n",
       "    <tr>\n",
       "      <th>1745</th>\n",
       "      <td>63329</td>\n",
       "      <td>McDonalds</td>\n",
       "      <td>70011</td>\n",
       "      <td>132392688</td>\n",
       "      <td>0.001005</td>\n",
       "    </tr>\n",
       "    <tr>\n",
       "      <th>4259</th>\n",
       "      <td>1192989</td>\n",
       "      <td>Paramount</td>\n",
       "      <td>11453</td>\n",
       "      <td>9089467</td>\n",
       "      <td>0.001022</td>\n",
       "    </tr>\n",
       "    <tr>\n",
       "      <th>2059</th>\n",
       "      <td>65880</td>\n",
       "      <td>Closeup</td>\n",
       "      <td>12180</td>\n",
       "      <td>10475146</td>\n",
       "      <td>0.001086</td>\n",
       "    </tr>\n",
       "  </tbody>\n",
       "</table>\n",
       "</div>"
      ],
      "text/plain": [
       "      dataset_id               username  tac_mean  likes_mean  \\\n",
       "1028       57202  StellaArtoisSingapore        31     7707607   \n",
       "4079      931671           johnsonsbaby       231    11113013   \n",
       "3920      911355    headandshouldersusa       856     8881935   \n",
       "1014       57117           DunkinDonuts      2134    13601931   \n",
       "1937       64360               PizzaHut      4569    27751645   \n",
       "3884      911362       headandshoulders      1842     8881955   \n",
       "3918      911327                Pampers      6915    16202296   \n",
       "3078      878838             DoritosUSA      7778    15532218   \n",
       "2082       65871         HeladosHolanda      3801     7664443   \n",
       "1684       62862           MastercardUS      7801    14009949   \n",
       "111        52660             BlackBerry     15118    24189653   \n",
       "3075      878839                PepsiUS     26022    34455243   \n",
       "3879      911207                  Skype     20763    26742522   \n",
       "1015       57114                 iTunes     22561    29590103   \n",
       "3263      895678             skyscanner      6937     8628247   \n",
       "1936       64359                    KFC     34257    42773805   \n",
       "772        53232                   Avon     15895    15470121   \n",
       "1745       63329              McDonalds     70011   132392688   \n",
       "4259     1192989              Paramount     11453     9089467   \n",
       "2059       65880                Closeup     12180    10475146   \n",
       "\n",
       "      tac_over_likes_ratio_mean  \n",
       "1028                   0.000004  \n",
       "4079                   0.000019  \n",
       "3920                   0.000088  \n",
       "1014                   0.000154  \n",
       "1937                   0.000158  \n",
       "3884                   0.000189  \n",
       "3918                   0.000394  \n",
       "3078                   0.000470  \n",
       "2082                   0.000486  \n",
       "1684                   0.000525  \n",
       "111                    0.000547  \n",
       "3075                   0.000707  \n",
       "3879                   0.000718  \n",
       "1015                   0.000730  \n",
       "3263                   0.000749  \n",
       "1936                   0.000791  \n",
       "772                    0.000948  \n",
       "1745                   0.001005  \n",
       "4259                   0.001022  \n",
       "2059                   0.001086  "
      ]
     },
     "execution_count": 33,
     "metadata": {},
     "output_type": "execute_result"
    }
   ],
   "source": [
    "# bottom 20 companies in 'tac_over_likes_ratio_mean'\n",
    "tac_likes_reduce.sort_values(by='tac_over_likes_ratio_mean', inplace = True)\n",
    "print(\"bottom 20 companies in 'tac_over_likes_ratio_mean'\")\n",
    "tac_likes_reduce.head(20)"
   ]
  },
  {
   "cell_type": "code",
   "execution_count": 34,
   "metadata": {},
   "outputs": [
    {
     "name": "stdout",
     "output_type": "stream",
     "text": [
      "bottom 20 companies in 'tac_over_likes_ratio_mean'\n",
      "['StellaArtoisSingapore', 'johnsonsbaby', 'headandshouldersusa', 'DunkinDonuts', 'PizzaHut', 'headandshoulders', 'Pampers', 'DoritosUSA', 'HeladosHolanda', 'MastercardUS', 'BlackBerry', 'PepsiUS', 'Skype', 'iTunes', 'skyscanner', 'KFC', 'Avon', 'McDonalds', 'Paramount', 'Closeup']\n"
     ]
    }
   ],
   "source": [
    "print(\"bottom 20 companies in 'tac_over_likes_ratio_mean'\")\n",
    "print(list(tac_likes_reduce.iloc[:20]['username']))"
   ]
  },
  {
   "cell_type": "code",
   "execution_count": 35,
   "metadata": {},
   "outputs": [
    {
     "data": {
      "image/png": "[encoded data removed]",
      "text/plain": [
       "<Figure size 1440x576 with 1 Axes>"
      ]
     },
     "metadata": {
      "needs_background": "light"
     },
     "output_type": "display_data"
    },
    {
     "name": "stdout",
     "output_type": "stream",
     "text": [
      "\n",
      "\n"
     ]
    }
   ],
   "source": [
    "fig, ax = plt.subplots(figsize = (20,8))\n",
    "curr_df = tac_likes_reduce.iloc[:20]\n",
    "ax.barh(curr_df['username'], curr_df['tac_over_likes_ratio_mean'])\n",
    "ax.set(xlabel= 'tac_over_likes_ratio_mean', title= 'bottom 20 companies in tac_over_likes_ratio_mean')\n",
    "    \n",
    "ax.grid()\n",
    "plt.show()\n",
    "print('\\n')"
   ]
  },
  {
   "cell_type": "code",
   "execution_count": 36,
   "metadata": {},
   "outputs": [
    {
     "name": "stdout",
     "output_type": "stream",
     "text": [
      "from 2015-07-16 04:00:00+00:00 to 2018-07-16 04:00:00+00:00\n"
     ]
    },
    {
     "name": "stderr",
     "output_type": "stream",
     "text": [
      "D:\\Python\\lib\\site-packages\\pandas\\plotting\\_converter.py:129: FutureWarning: Using an implicitly registered datetime converter for a matplotlib plotting method. The converter was registered by pandas on import. Future versions of pandas will require you to explicitly register matplotlib converters.\n",
      "\n",
      "To register the converters:\n",
      "\t>>> from pandas.plotting import register_matplotlib_converters\n",
      "\t>>> register_matplotlib_converters()\n",
      "  warnings.warn(msg, FutureWarning)\n"
     ]
    },
    {
     "data": {
      "image/png": "[encoded data removed]",
      "text/plain": [
       "<Figure size 1440x504 with 1 Axes>"
      ]
     },
     "metadata": {
      "needs_background": "light"
     },
     "output_type": "display_data"
    },
    {
     "name": "stdout",
     "output_type": "stream",
     "text": [
      "\n",
      "\n"
     ]
    },
    {
     "data": {
      "image/png": "[encoded data removed]",
      "text/plain": [
       "<Figure size 1440x504 with 1 Axes>"
      ]
     },
     "metadata": {
      "needs_background": "light"
     },
     "output_type": "display_data"
    },
    {
     "name": "stdout",
     "output_type": "stream",
     "text": [
      "\n",
      "\n"
     ]
    }
   ],
   "source": [
    "# company AlibabaUS's tac_mean and tac_over_likes_ratio_mean curve coincides a lot with its stock price\n",
    "# for reference, check the following link for AlibabaUs's stock price in the same time period\n",
    "# https://finance.yahoo.com/chart/BABA#eyJpbnRlcnZhbCI6IndlZWsiLCJwZXJpb2RpY2l0eSI6MSwiY2FuZGxlV2lkdGgiOjUuODQwNzY0MzMxMjEwMTkxLCJmbGlwcGVkIjpmYWxzZSwidm9sdW1lVW5kZXJsYXkiOnRydWUsImFkaiI6dHJ1ZSwiY3Jvc3NoYWlyIjp0cnVlLCJjaGFydFR5cGUiOiJsaW5lIiwiZXh0ZW5kZWQiOmZhbHNlLCJtYXJrZXRTZXNzaW9ucyI6e30sImFnZ3JlZ2F0aW9uVHlwZSI6Im9obGMiLCJjaGFydFNjYWxlIjoibGluZWFyIiwicGFuZWxzIjp7ImNoYXJ0Ijp7InBlcmNlbnQiOjEsImRpc3BsYXkiOiJCQUJBIiwiY2hhcnROYW1lIjoiY2hhcnQiLCJpbmRleCI6MCwieUF4aXMiOnsibmFtZSI6ImNoYXJ0IiwicG9zaXRpb24iOm51bGx9LCJ5YXhpc0xIUyI6W10sInlheGlzUkhTIjpbImNoYXJ0Iiwi4oCMdm9sIHVuZHLigIwiXX19LCJsaW5lV2lkdGgiOjIsInN0cmlwZWRCYWNrZ3JvdW5kIjp0cnVlLCJldmVudHMiOnRydWUsImNvbG9yIjoiIzAwODFmMiIsInN0cmlwZWRCYWNrZ3JvdWQiOnRydWUsInJhbmdlIjp7ImR0TGVmdCI6IjIwMTUtMDctMTZUMDc6MDA6MDAuMDAwWiIsImR0UmlnaHQiOiIyMDE4LTA3LTE3VDA2OjU5OjAwLjAwMFoiLCJwZXJpb2RpY2l0eSI6eyJpbnRlcnZhbCI6IndlZWsiLCJwZXJpb2QiOjF9LCJwYWRkaW5nIjowfSwiZXZlbnRNYXAiOnsiY29ycG9yYXRlIjp7ImRpdnMiOnRydWUsInNwbGl0cyI6dHJ1ZX0sInNpZ0RldiI6e319LCJjdXN0b21SYW5nZSI6eyJzdGFydCI6MTQzNzM3NTYwMDAwMCwiZW5kIjoxNTMxNzI0NDAwMDAwfSwic3ltYm9scyI6W3sic3ltYm9sIjoiQkFCQSIsInN5bWJvbE9iamVjdCI6eyJzeW1ib2wiOiJCQUJBIiwicXVvdGVUeXBlIjoiRVFVSVRZIiwiZXhjaGFuZ2VUaW1lWm9uZSI6IkFtZXJpY2EvTmV3X1lvcmsifSwicGVyaW9kaWNpdHkiOjEsImludGVydmFsIjoid2VlayJ9XSwic3R1ZGllcyI6eyLigIx2b2wgdW5kcuKAjCI6eyJ0eXBlIjoidm9sIHVuZHIiLCJpbnB1dHMiOnsiaWQiOiLigIx2b2wgdW5kcuKAjCIsImRpc3BsYXkiOiLigIx2b2wgdW5kcuKAjCJ9LCJvdXRwdXRzIjp7IlVwIFZvbHVtZSI6IiMwMGIwNjEiLCJEb3duIFZvbHVtZSI6IiNmZjMzM2EifSwicGFuZWwiOiJjaGFydCIsInBhcmFtZXRlcnMiOnsid2lkdGhGYWN0b3IiOjAuNDUsImNoYXJ0TmFtZSI6ImNoYXJ0IiwicGFuZWxOYW1lIjoiY2hhcnQifX19fQ%3D%3D\n",
    "print(f\"from {fb_reduce[fb_reduce['dataset_id'] == 55647]['time'].min()} to {fb_reduce[fb_reduce['dataset_id'] == 55647]['time'].max()}\")\n",
    "plot_tac(55647)\n",
    "plot_ratio(55647)"
   ]
  },
  {
   "cell_type": "code",
   "execution_count": null,
   "metadata": {},
   "outputs": [],
   "source": []
  }
 ],
 "metadata": {
  "kernelspec": {
   "display_name": "Python 3",
   "language": "python",
   "name": "python3"
  },
  "language_info": {
   "codemirror_mode": {
    "name": "ipython",
    "version": 3
   },
   "file_extension": ".py",
   "mimetype": "text/x-python",
   "name": "python",
   "nbconvert_exporter": "python",
   "pygments_lexer": "ipython3",
   "version": "3.7.3"
  }
 },
 "nbformat": 4,
 "nbformat_minor": 2
}
